{
 "cells": [
  {
   "cell_type": "code",
   "execution_count": null,
   "metadata": {
    "vscode": {
     "languageId": "plaintext"
    }
   },
   "outputs": [],
   "source": [
    "import pandas as pd\n",
    "import nltk\n",
    "from nltk.corpus import stopwords\n",
    "from nltk.tokenize import word_tokenize\n",
    "from nltk.util import ngrams\n",
    "from wordcloud import WordCloud\n",
    "import matplotlib.pyplot as plt\n",
    "import re\n",
    "from collections import Counter\n",
    "\n",
    "# Load ticket summary data (assuming CSV)\n",
    "df = pd.read_csv(\".data\\\\tickets.csv\")\n",
    "summaries = \" \".join(df[\"Summary\"].dropna())\n",
    "\n",
    "# Preprocessing\n",
    "nltk.download(\"stopwords\")\n",
    "nltk.download(\"punkt\")\n",
    "stop_words = set(stopwords.words(\"english\"))\n",
    "\n",
    "# Tokenization and cleaning\n",
    "words = word_tokenize(summaries.lower())  # Convert to lowercase & tokenize\n",
    "words = [re.sub(r'\\W+', '', word) for word in words]  # Remove special characters\n",
    "words = [word for word in words if word not in stop_words and word.isalpha()]  # Remove stopwords & non-alphabetic tokens\n",
    "\n",
    "# Generate Bigrams and Trigrams\n",
    "bigrams = list(ngrams(words, 2))\n",
    "trigrams = list(ngrams(words, 3))\n",
    "\n",
    "# Convert to strings for WordCloud\n",
    "bigram_phrases = [\" \".join(bigram) for bigram in bigrams]\n",
    "trigram_phrases = [\" \".join(trigram) for trigram in trigrams]\n",
    "\n",
    "# Count frequency\n",
    "bigram_freq = Counter(bigram_phrases)\n",
    "trigram_freq = Counter(trigram_phrases)\n",
    "\n",
    "# Select most common phrases\n",
    "top_bigrams = \" \".join([phrase for phrase, _ in bigram_freq.most_common(50)])\n",
    "top_trigrams = \" \".join([phrase for phrase, _ in trigram_freq.most_common(50)])\n",
    "\n",
    "# Generate Word Cloud for Bigrams\n",
    "wordcloud_bigrams = WordCloud(width=800, height=400, background_color=\"white\").generate(top_bigrams)\n",
    "plt.figure(figsize=(10, 5))\n",
    "plt.imshow(wordcloud_bigrams, interpolation=\"bilinear\")\n",
    "plt.axis(\"off\")\n",
    "plt.title(\"Bigram Word Cloud\")\n",
    "plt.show()\n",
    "\n",
    "# Generate Word Cloud for Trigrams\n",
    "wordcloud_trigrams = WordCloud(width=800, height=400, background_color=\"white\").generate(top_trigrams)\n",
    "plt.figure(figsize=(10, 5))\n",
    "plt.imshow(wordcloud_trigrams, interpolation=\"bilinear\")\n",
    "plt.axis(\"off\")\n",
    "plt.title(\"Trigram Word Cloud\")\n",
    "plt.show()\n"
   ]
  }
 ],
 "metadata": {
  "language_info": {
   "name": "python"
  }
 },
 "nbformat": 4,
 "nbformat_minor": 2
}
